{
 "cells": [
  {
   "cell_type": "code",
   "execution_count": 1,
   "id": "46ff7f32",
   "metadata": {},
   "outputs": [],
   "source": [
    "import pandas as pd # Modul for dataframe\n",
    "import numpy as np # for scientific computing (math high level)\n",
    "import matplotlib.pyplot as plt # Modul Visualization\n",
    "import seaborn as sns # Modul Visualization"
   ]
  },
  {
   "cell_type": "code",
   "execution_count": 2,
   "id": "794df02f",
   "metadata": {},
   "outputs": [],
   "source": [
    "# Make data so that mix if want split data train or test\n",
    "def Importdata(file):\n",
    "    \"\"\"\n",
    "    Function for import data and drop duplicate\n",
    "    param : Function (file<input file name>) just format (csv)\n",
    "    return data\n",
    "    \"\"\"\n",
    "    \n",
    "    data = pd.read_csv(file, sep=';', skiprows=0)\n",
    "    print(\"Data real            : \", data.shape, \"- (#observation, #column)\")\n",
    "\n",
    "    data = data.drop_duplicates()\n",
    "    print(\"after drop data : \", data.shape, \"- (#observation, #column)\")\n",
    "    \n",
    "    return data"
   ]
  },
  {
   "cell_type": "code",
   "execution_count": 3,
   "id": "04297f3b",
   "metadata": {},
   "outputs": [
    {
     "name": "stdout",
     "output_type": "stream",
     "text": [
      "Data real            :  (45211, 17) - (#observation, #column)\n",
      "after drop data :  (45211, 17) - (#observation, #column)\n"
     ]
    }
   ],
   "source": [
    "#input\n",
    "file_data = \"bank-full.csv\"\n",
    "\n",
    "#call function\n",
    "data_analisa = Importdata(file = file_data)"
   ]
  },
  {
   "cell_type": "code",
   "execution_count": 4,
   "id": "279a7652",
   "metadata": {},
   "outputs": [
    {
     "name": "stdout",
     "output_type": "stream",
     "text": [
      "<class 'pandas.core.frame.DataFrame'>\n",
      "Int64Index: 45211 entries, 0 to 45210\n",
      "Data columns (total 17 columns):\n",
      " #   Column     Non-Null Count  Dtype \n",
      "---  ------     --------------  ----- \n",
      " 0   age        45211 non-null  int64 \n",
      " 1   job        45211 non-null  object\n",
      " 2   marital    45211 non-null  object\n",
      " 3   education  45211 non-null  object\n",
      " 4   default    45211 non-null  object\n",
      " 5   balance    45211 non-null  int64 \n",
      " 6   housing    45211 non-null  object\n",
      " 7   loan       45211 non-null  object\n",
      " 8   contact    45211 non-null  object\n",
      " 9   day        45211 non-null  int64 \n",
      " 10  month      45211 non-null  object\n",
      " 11  duration   45211 non-null  int64 \n",
      " 12  campaign   45211 non-null  int64 \n",
      " 13  pdays      45211 non-null  int64 \n",
      " 14  previous   45211 non-null  int64 \n",
      " 15  poutcome   45211 non-null  object\n",
      " 16  y          45211 non-null  object\n",
      "dtypes: int64(7), object(10)\n",
      "memory usage: 6.2+ MB\n"
     ]
    }
   ],
   "source": [
    "# Sanichek data\n",
    "data_analisa.info()"
   ]
  },
  {
   "cell_type": "code",
   "execution_count": 5,
   "id": "f42ce2cf",
   "metadata": {},
   "outputs": [],
   "source": [
    "# drop columns not used\n",
    "data_analisa = data_analisa.drop(columns=['age','day','campaign','pdays','previous','balance'])"
   ]
  },
  {
   "cell_type": "markdown",
   "id": "983311d4",
   "metadata": {},
   "source": [
    "# Data Splitting"
   ]
  },
  {
   "cell_type": "code",
   "execution_count": 6,
   "id": "41a90bf2",
   "metadata": {},
   "outputs": [],
   "source": [
    "# make function separate input, output\n",
    "def SeparateOutputInput(data,\n",
    "                       output_column_name):\n",
    "    \"\"\"\n",
    "    The Function for separate data input and output\n",
    "    input data for target/output and the drop or separate\n",
    "    make new variable for input and output data\n",
    "    \"\"\"\n",
    "    \n",
    "    output_data = data[output_column_name]\n",
    "    input_data = data.drop(output_column_name,\n",
    "                           axis = 1)\n",
    "    \n",
    "    return input_data, output_data"
   ]
  },
  {
   "cell_type": "code",
   "execution_count": 7,
   "id": "c49d0294",
   "metadata": {},
   "outputs": [],
   "source": [
    "# call function\n",
    "X, y = SeparateOutputInput(data = data_analisa,\n",
    "                          output_column_name = \"y\")"
   ]
  },
  {
   "cell_type": "code",
   "execution_count": 8,
   "id": "c2952f3c",
   "metadata": {},
   "outputs": [
    {
     "data": {
      "text/plain": [
       "0    no\n",
       "1    no\n",
       "Name: y, dtype: object"
      ]
     },
     "execution_count": 8,
     "metadata": {},
     "output_type": "execute_result"
    }
   ],
   "source": [
    "X.head(2) # for data input\n",
    "y.head(2) # for data output"
   ]
  },
  {
   "cell_type": "markdown",
   "id": "9db1b875",
   "metadata": {},
   "source": [
    "# Training and Split Data"
   ]
  },
  {
   "cell_type": "code",
   "execution_count": 9,
   "id": "dd1b0e85",
   "metadata": {},
   "outputs": [
    {
     "data": {
      "text/plain": [
       "((36168, 10), (9043, 10), (36168,), (9043,))"
      ]
     },
     "execution_count": 9,
     "metadata": {},
     "output_type": "execute_result"
    }
   ],
   "source": [
    "# Train test split\n",
    "from sklearn.model_selection import train_test_split #splitting data test and train\n",
    "\n",
    "X_train, X_test, y_train, y_test = train_test_split(X, y,\n",
    "                                                    stratify = y, # because inbalance data\n",
    "                                                    test_size = 0.2, # split 20% data\n",
    "                                                    random_state = 123)\n",
    "# print shape\n",
    "X_train.shape, X_test.shape, y_train.shape, y_test.shape"
   ]
  },
  {
   "cell_type": "code",
   "execution_count": 10,
   "id": "86d8d387",
   "metadata": {},
   "outputs": [
    {
     "data": {
      "text/plain": [
       "no     0.883018\n",
       "yes    0.116982\n",
       "Name: y, dtype: float64"
      ]
     },
     "execution_count": 10,
     "metadata": {},
     "output_type": "execute_result"
    }
   ],
   "source": [
    "y_train.value_counts(normalize = True)\n",
    "\n",
    "# Baseline accurate is 88%"
   ]
  },
  {
   "cell_type": "code",
   "execution_count": 11,
   "id": "7351cdf4",
   "metadata": {},
   "outputs": [
    {
     "data": {
      "text/plain": [
       "0.20001769480878548"
      ]
     },
     "execution_count": 11,
     "metadata": {},
     "output_type": "execute_result"
    }
   ],
   "source": [
    "# Ratio\n",
    "X_test.shape[0] / X.shape[0]\n",
    "\n",
    "# Hasil 0.20 - same with test_size"
   ]
  },
  {
   "cell_type": "code",
   "execution_count": 12,
   "id": "6a5e0693",
   "metadata": {},
   "outputs": [
    {
     "name": "stdout",
     "output_type": "stream",
     "text": [
      "<class 'pandas.core.frame.DataFrame'>\n",
      "Int64Index: 36168 entries, 15136 to 40175\n",
      "Data columns (total 10 columns):\n",
      " #   Column     Non-Null Count  Dtype \n",
      "---  ------     --------------  ----- \n",
      " 0   job        36168 non-null  object\n",
      " 1   marital    36168 non-null  object\n",
      " 2   education  36168 non-null  object\n",
      " 3   default    36168 non-null  object\n",
      " 4   housing    36168 non-null  object\n",
      " 5   loan       36168 non-null  object\n",
      " 6   contact    36168 non-null  object\n",
      " 7   month      36168 non-null  object\n",
      " 8   duration   36168 non-null  int64 \n",
      " 9   poutcome   36168 non-null  object\n",
      "dtypes: int64(1), object(9)\n",
      "memory usage: 3.0+ MB\n"
     ]
    }
   ],
   "source": [
    "# sanicheck\n",
    "X_train.info()"
   ]
  },
  {
   "cell_type": "markdown",
   "id": "5f9b2b70",
   "metadata": {},
   "source": [
    "# Data Preprocessing"
   ]
  },
  {
   "cell_type": "code",
   "execution_count": 13,
   "id": "a2f4651e",
   "metadata": {},
   "outputs": [
    {
     "data": {
      "text/plain": [
       "['duration']"
      ]
     },
     "execution_count": 13,
     "metadata": {},
     "output_type": "execute_result"
    }
   ],
   "source": [
    "# Split data numeric\n",
    "numeric_column = ['duration'] # column used\n",
    "numeric_column"
   ]
  },
  {
   "cell_type": "code",
   "execution_count": 14,
   "id": "ae7eaa9a",
   "metadata": {},
   "outputs": [],
   "source": [
    "# split data train category\n",
    "categorical_col = list(set(X_train.columns) - set(numeric_column))"
   ]
  },
  {
   "cell_type": "code",
   "execution_count": 15,
   "id": "3a935bab",
   "metadata": {},
   "outputs": [],
   "source": [
    "# split data test category\n",
    "categorical_col_test = list(set(X_test.columns) - set(numeric_column))"
   ]
  },
  {
   "cell_type": "code",
   "execution_count": 16,
   "id": "02032961",
   "metadata": {},
   "outputs": [],
   "source": [
    "def splitNumCat(data, num_col, cat_col):\n",
    "    \"\"\"\"\n",
    "    Function for split category between numeric\n",
    "    data_num = input data split numeric\n",
    "    data_cat = input data split category\n",
    "    \"\"\"\n",
    "    data_num = data[num_col]\n",
    "    data_cat = data[cat_col]\n",
    "\n",
    "    return data_num, data_cat"
   ]
  },
  {
   "cell_type": "code",
   "execution_count": 17,
   "id": "c9e6cf0f",
   "metadata": {},
   "outputs": [],
   "source": [
    "# call function X_train\n",
    "X_train_num, X_train_cat = splitNumCat(data = X_train,\n",
    "                                       num_col = numeric_column,\n",
    "                                       cat_col = categorical_col)"
   ]
  },
  {
   "cell_type": "code",
   "execution_count": 18,
   "id": "4e55cf77",
   "metadata": {},
   "outputs": [],
   "source": [
    "# call function X_test\n",
    "X_test_num, X_test_cat = splitNumCat(data = X_test,\n",
    "                                       num_col = numeric_column,\n",
    "                                       cat_col = categorical_col_test)"
   ]
  },
  {
   "cell_type": "markdown",
   "id": "30bf4915",
   "metadata": {},
   "source": [
    "# Handling missing values numeric"
   ]
  },
  {
   "cell_type": "code",
   "execution_count": 19,
   "id": "b58c4552",
   "metadata": {},
   "outputs": [],
   "source": [
    "# make function imputer numeric take care if have missing nulls\n",
    "from sklearn.impute import SimpleImputer\n",
    "\n",
    "def imputerNum(data, imputer = None):\n",
    "    \"\"\"\n",
    "    This ImputerNum for check missing valus\n",
    "    and if there are missing values make median\n",
    "    \"\"\"\n",
    "    if imputer == None:\n",
    "        # Buat imputer\n",
    "        imputer = SimpleImputer(missing_values = np.nan,\n",
    "                                strategy = \"median\") # make median becauses data is skew\n",
    "        imputer.fit(data)\n",
    "\n",
    "    # Transform data dengan imputer\n",
    "    data_imputed = imputer.transform(data)\n",
    "    data_imputed = pd.DataFrame(data_imputed,\n",
    "                                index = data.index,\n",
    "                                columns = data.columns)\n",
    "    \n",
    "    return data_imputed, imputer"
   ]
  },
  {
   "cell_type": "code",
   "execution_count": 20,
   "id": "c10fc9a3",
   "metadata": {},
   "outputs": [],
   "source": [
    "# data test\n",
    "X_train_num_imputed, imputer_num = imputerNum(data = X_train_num)\n",
    "\n",
    "# data test\n",
    "X_test_num_imputed, imputer_num_test = imputerNum(data = X_test_num)"
   ]
  },
  {
   "cell_type": "markdown",
   "id": "8e4fa81d",
   "metadata": {},
   "source": [
    "# Handling missing values Category"
   ]
  },
  {
   "cell_type": "code",
   "execution_count": 21,
   "id": "72146d84",
   "metadata": {},
   "outputs": [],
   "source": [
    "# make function imputer category take care if have missing nulls\n",
    "def imputerCat(data, imputer = None):\n",
    "    \"\"\"\n",
    "    This ImputerCat for check missing valus\n",
    "    and if there are missing values make UNKNOWN\n",
    "    \"\"\"\n",
    "    if imputer == None:\n",
    "        # Buat imputer\n",
    "        imputer = SimpleImputer(missing_values = np.nan,\n",
    "                                strategy = \"constant\", # Identification data\n",
    "                                fill_value = \"UNKNOWN\") # change values\n",
    "        imputer.fit(data)\n",
    "\n",
    "    # Transform data dengan imputer\n",
    "    data_imputed = imputer.transform(data)\n",
    "    data_imputed = pd.DataFrame(data_imputed,\n",
    "                                index = data.index,\n",
    "                                columns = data.columns)\n",
    "    \n",
    "    return data_imputed, imputer"
   ]
  },
  {
   "cell_type": "code",
   "execution_count": 22,
   "id": "ed6958d5",
   "metadata": {},
   "outputs": [],
   "source": [
    "# data train\n",
    "X_train_cat_imputed, imputer_cat = imputerCat(data = X_train_cat)\n",
    "\n",
    "# data test\n",
    "X_test_cat_imputed, imputer_cat_test = imputerCat(data = X_test_cat)"
   ]
  },
  {
   "cell_type": "markdown",
   "id": "bed4f79f",
   "metadata": {},
   "source": [
    "# OHE"
   ]
  },
  {
   "cell_type": "code",
   "execution_count": 23,
   "id": "3263e3cc",
   "metadata": {},
   "outputs": [],
   "source": [
    "# OHE from X_train\n",
    "categorical_ohe = pd.get_dummies(X_train_cat_imputed)\n",
    "\n",
    "# OHE from X_test\n",
    "categorical_ohe_test = pd.get_dummies(X_test_cat_imputed)"
   ]
  },
  {
   "cell_type": "markdown",
   "id": "ccee843c",
   "metadata": {},
   "source": [
    "# Concat data"
   ]
  },
  {
   "cell_type": "code",
   "execution_count": 24,
   "id": "5756b5c1",
   "metadata": {},
   "outputs": [],
   "source": [
    "# concat data X_train\n",
    "X_train_concat = pd.concat([X_train_num_imputed, categorical_ohe],\n",
    "                           axis = 1)"
   ]
  },
  {
   "cell_type": "code",
   "execution_count": 25,
   "id": "f043f4fa",
   "metadata": {},
   "outputs": [],
   "source": [
    "# concat data X_test\n",
    "X_test_concat = pd.concat([X_test_num_imputed, categorical_ohe_test],\n",
    "                           axis = 1)"
   ]
  },
  {
   "cell_type": "code",
   "execution_count": 26,
   "id": "c9fe65d6",
   "metadata": {
    "scrolled": true
   },
   "outputs": [
    {
     "data": {
      "text/plain": [
       "no     31937\n",
       "yes     4231\n",
       "Name: y, dtype: int64"
      ]
     },
     "execution_count": 26,
     "metadata": {},
     "output_type": "execute_result"
    }
   ],
   "source": [
    "# sanichek\n",
    "y_train.value_counts()"
   ]
  },
  {
   "cell_type": "code",
   "execution_count": 27,
   "id": "3bd5ce8e",
   "metadata": {},
   "outputs": [],
   "source": [
    "# Encoder for model\n",
    "# OHE from X_train\n",
    "X_train = pd.get_dummies(X_train)\n",
    "\n",
    "# OHE from x_test\n",
    "X_test = pd.get_dummies(X_test)"
   ]
  },
  {
   "cell_type": "code",
   "execution_count": 28,
   "id": "39707ed0",
   "metadata": {},
   "outputs": [],
   "source": [
    "from sklearn.preprocessing import LabelEncoder #modul for encoder categoric values\n",
    "\n",
    "le = LabelEncoder() # convert to encoder\n",
    "\n",
    "# fit and transform y_train\n",
    "y_train = le.fit_transform(y_train)\n",
    "\n",
    "# # fit and transform y_test\n",
    "y_test = le.fit_transform(y_test)"
   ]
  },
  {
   "cell_type": "markdown",
   "id": "5590079a",
   "metadata": {},
   "source": [
    "# feature engineering"
   ]
  },
  {
   "cell_type": "markdown",
   "id": "dd74fd17",
   "metadata": {},
   "source": [
    "# Scaling"
   ]
  },
  {
   "cell_type": "code",
   "execution_count": 29,
   "id": "87c9945f",
   "metadata": {},
   "outputs": [],
   "source": [
    "from sklearn.preprocessing import StandardScaler # modul for standart"
   ]
  },
  {
   "cell_type": "code",
   "execution_count": 30,
   "id": "ed54e223",
   "metadata": {},
   "outputs": [],
   "source": [
    "def standardizeData(data, scaler = None):\n",
    "    \"\"\"\n",
    "    This function used for convert data to\n",
    "    standaritation or normal distribution \n",
    "    \"\"\"\n",
    "    if scaler == None:\n",
    "        # Buat & Fit scaler\n",
    "        scaler = StandardScaler()\n",
    "        scaler.fit(data)\n",
    "\n",
    "    # Tranform data\n",
    "    data_scaled = scaler.transform(data)\n",
    "    data_scaled = pd.DataFrame(data_scaled,\n",
    "                               index = data.index,\n",
    "                               columns = data.columns)\n",
    "    \n",
    "    return data_scaled, scaler"
   ]
  },
  {
   "cell_type": "code",
   "execution_count": 31,
   "id": "d28ead11",
   "metadata": {},
   "outputs": [],
   "source": [
    "# Make standaritation X_train\n",
    "X_train_clean, scaler = standardizeData(data = X_train_concat)\n",
    "\n",
    "# Make standaritation X_test\n",
    "X_test_clean, scaler = standardizeData(data = X_test_concat)"
   ]
  },
  {
   "cell_type": "code",
   "execution_count": 32,
   "id": "4edaa96d",
   "metadata": {},
   "outputs": [
    {
     "data": {
      "text/plain": [
       "((36168,), (9043,))"
      ]
     },
     "execution_count": 32,
     "metadata": {},
     "output_type": "execute_result"
    }
   ],
   "source": [
    "# sanicheck\n",
    "y_train.shape, y_test.shape"
   ]
  },
  {
   "cell_type": "markdown",
   "id": "144f8545",
   "metadata": {},
   "source": [
    "# Check Performance Data"
   ]
  },
  {
   "cell_type": "markdown",
   "id": "9e666f53",
   "metadata": {},
   "source": [
    "We want to know about performa data if we used a few model"
   ]
  },
  {
   "cell_type": "markdown",
   "id": "26a865e9",
   "metadata": {},
   "source": [
    "# Deep learning (Neurol Network)"
   ]
  },
  {
   "cell_type": "code",
   "execution_count": 33,
   "id": "9790a61d",
   "metadata": {},
   "outputs": [],
   "source": [
    "# find performa\n",
    "from sklearn.metrics import confusion_matrix # for check all metrics (TN,TP, FT, FN)\n",
    "from sklearn.metrics import accuracy_score # for check accuracy scores\n",
    "from sklearn.metrics import classification_report # for check all metrics\n",
    "from sklearn.metrics import roc_curve # check curve roc \n",
    "from sklearn.metrics import auc # check auc value "
   ]
  },
  {
   "cell_type": "code",
   "execution_count": 34,
   "id": "e2d163a4",
   "metadata": {},
   "outputs": [],
   "source": [
    "# Import library for neurol network\n",
    "from tensorflow.keras.models import Sequential # for model neural network \n",
    "from tensorflow.keras.layers import Dense, Flatten # Dense, flaten for model (hyperparameter)\n",
    "from tensorflow.keras.optimizers import Adam # optimization (hyperparameter)\n",
    "from tensorflow.keras.layers import Dropout # dropout layer (hyperparameter)\n",
    "from tensorflow import keras # for model (hyperparameter)\n",
    "from tensorflow.keras.callbacks import EarlyStopping # for stopping when process model overfitting\n",
    "from keras.layers import Activation, Dense # for activation Dense"
   ]
  },
  {
   "cell_type": "code",
   "execution_count": 35,
   "id": "42557c80",
   "metadata": {},
   "outputs": [],
   "source": [
    "def preActivation(X, w):\n",
    "    \"\"\"\n",
    "    Fungsi untuk mendapatkan nilai pre activation (weighted-sum)\n",
    "    :param X: <pandas DataFrame> data input\n",
    "    :param w: <numpy array> weight dari masing-masing input\n",
    "    :return a: <numpy array> weighted sum atau pre activation\n",
    "    \"\"\"\n",
    "    a = np.dot(X, w[1:]) + w[0]\n",
    "\n",
    "    return a"
   ]
  },
  {
   "cell_type": "code",
   "execution_count": 36,
   "id": "d2720092",
   "metadata": {},
   "outputs": [],
   "source": [
    "def activationFunction(a, types):\n",
    "    \"\"\"\n",
    "    Fungsi untuk melakukan aktifasi nilai pre activation\n",
    "    :param a: <numpy array> pre activation value\n",
    "    :param types: <str> pilihan fungsi aktivasi\n",
    "    :return y: <numpy array> output perceptron\n",
    "    \"\"\"\n",
    "    if types == \"linear\":\n",
    "        y = a\n",
    "    elif types == \"sigmoid\":\n",
    "        y = 1 / (1 + np.exp(-a))\n",
    "    elif types == \"relu\":\n",
    "        y = np.max(0, a)\n",
    "    else:\n",
    "        raise Exception(\"Activation Function tidak terdaftar\")\n",
    "\n",
    "    return y"
   ]
  },
  {
   "cell_type": "markdown",
   "id": "d2c8732b",
   "metadata": {},
   "source": [
    "# Increase Model"
   ]
  },
  {
   "cell_type": "code",
   "execution_count": 37,
   "id": "5f99242c",
   "metadata": {},
   "outputs": [],
   "source": [
    "#increase Metrics\n",
    "\n",
    "from tensorflow.keras import models, layers, utils, backend as K # for calcultae increase metrics\n",
    "\n",
    "# define metrics\n",
    "def Recall(y_true, y_pred):\n",
    "    \"\"\"\n",
    "    in the model will add calculate for increase\n",
    "    Recall metrics \n",
    "    \"\"\"\n",
    "    true_positives = K.sum(K.round(K.clip(y_true * y_pred, 0, 1)))\n",
    "    possible_positives = K.sum(K.round(K.clip(y_true, 0, 1)))\n",
    "    recall = true_positives / (possible_positives + K.epsilon())\n",
    "    return recall\n",
    "\n",
    "def Precision(y_true, y_pred):\n",
    "    \"\"\"\n",
    "    in the model will add calculate for increase\n",
    "    Precision metrics \n",
    "    \"\"\"\n",
    "    true_positives = K.sum(K.round(K.clip(y_true * y_pred, 0, 1)))\n",
    "    predicted_positives = K.sum(K.round(K.clip(y_pred, 0, 1)))\n",
    "    precision = true_positives / (predicted_positives + K.epsilon())\n",
    "    return precision\n",
    "\n",
    "def F1(y_true, y_pred):\n",
    "    \"\"\"\n",
    "    in the model will add calculate for increase\n",
    "    F1 metrics \n",
    "    \"\"\"\n",
    "    precision = Precision(y_true, y_pred)\n",
    "    recall = Recall(y_true, y_pred)\n",
    "    return 2*((precision*recall)/(precision+recall+K.epsilon()))"
   ]
  },
  {
   "cell_type": "code",
   "execution_count": 38,
   "id": "8315dbc1",
   "metadata": {},
   "outputs": [
    {
     "name": "stdout",
     "output_type": "stream",
     "text": [
      "Model: \"sequential\"\n",
      "_________________________________________________________________\n",
      " Layer (type)                Output Shape              Param #   \n",
      "=================================================================\n",
      " dense (Dense)               (None, 128)               5888      \n",
      "                                                                 \n",
      " dense_1 (Dense)             (None, 1)                 129       \n",
      "                                                                 \n",
      " flatten (Flatten)           (None, 1)                 0         \n",
      "                                                                 \n",
      "=================================================================\n",
      "Total params: 6,017\n",
      "Trainable params: 6,017\n",
      "Non-trainable params: 0\n",
      "_________________________________________________________________\n"
     ]
    }
   ],
   "source": [
    "# Buat arsitektur model dengan 1 perceptron\n",
    "model = keras.Sequential() # input kind model\n",
    "model.add(layers.Dense(128, activation = \"softmax\", input_shape=(X_train_clean.shape[1],))) # for input data \n",
    "Dropout(0.5) # drop dense if not used\n",
    "model.add(layers.Dense(1, activation=\"sigmoid\")) # output dense for data\n",
    "model.add(Flatten()) # converts the multi-dimensional tensor to a one-dimensional form in the output.\n",
    "\n",
    "# overview parameter\n",
    "model.summary() \n",
    "\n",
    "# Buat optimizer, menggunakan ADAM (varian gradient descent)\n",
    "opt = Adam(learning_rate = 0.001)\n",
    "\n",
    "# Compile model\n",
    "model.compile(loss = \"binary_crossentropy\", # input kind loss for model\n",
    "              optimizer = opt, \n",
    "              metrics = [\"accuracy\", Recall], # show metrics and increase recall \n",
    "             )"
   ]
  },
  {
   "cell_type": "code",
   "execution_count": 39,
   "id": "2d143fcc",
   "metadata": {},
   "outputs": [
    {
     "name": "stdout",
     "output_type": "stream",
     "text": [
      "Epoch 1/500\n",
      "453/453 - 2s - loss: 0.5302 - accuracy: 0.8787 - Recall: 0.0086 - val_loss: 0.4097 - val_accuracy: 0.8819 - val_Recall: 0.0000e+00 - 2s/epoch - 5ms/step\n",
      "Epoch 2/500\n",
      "453/453 - 1s - loss: 0.3548 - accuracy: 0.8851 - Recall: 0.0194 - val_loss: 0.3170 - val_accuracy: 0.8915 - val_Recall: 0.1332 - 811ms/epoch - 2ms/step\n",
      "Epoch 3/500\n",
      "453/453 - 1s - loss: 0.2940 - accuracy: 0.8952 - Recall: 0.2218 - val_loss: 0.2782 - val_accuracy: 0.8969 - val_Recall: 0.2809 - 824ms/epoch - 2ms/step\n",
      "Epoch 4/500\n",
      "453/453 - 1s - loss: 0.2640 - accuracy: 0.8991 - Recall: 0.3136 - val_loss: 0.2552 - val_accuracy: 0.9001 - val_Recall: 0.3203 - 783ms/epoch - 2ms/step\n",
      "Epoch 5/500\n",
      "453/453 - 1s - loss: 0.2452 - accuracy: 0.9007 - Recall: 0.3345 - val_loss: 0.2414 - val_accuracy: 0.9007 - val_Recall: 0.3569 - 769ms/epoch - 2ms/step\n",
      "Epoch 6/500\n",
      "453/453 - 1s - loss: 0.2342 - accuracy: 0.9022 - Recall: 0.3727 - val_loss: 0.2331 - val_accuracy: 0.9035 - val_Recall: 0.4154 - 804ms/epoch - 2ms/step\n",
      "Epoch 7/500\n",
      "453/453 - 1s - loss: 0.2273 - accuracy: 0.9043 - Recall: 0.4151 - val_loss: 0.2280 - val_accuracy: 0.9043 - val_Recall: 0.4717 - 816ms/epoch - 2ms/step\n",
      "Epoch 8/500\n",
      "453/453 - 1s - loss: 0.2225 - accuracy: 0.9046 - Recall: 0.4476 - val_loss: 0.2245 - val_accuracy: 0.9043 - val_Recall: 0.4578 - 773ms/epoch - 2ms/step\n",
      "Epoch 9/500\n",
      "453/453 - 1s - loss: 0.2188 - accuracy: 0.9056 - Recall: 0.4552 - val_loss: 0.2217 - val_accuracy: 0.9045 - val_Recall: 0.4551 - 751ms/epoch - 2ms/step\n",
      "Epoch 10/500\n",
      "453/453 - 1s - loss: 0.2158 - accuracy: 0.9066 - Recall: 0.4590 - val_loss: 0.2197 - val_accuracy: 0.9049 - val_Recall: 0.4615 - 782ms/epoch - 2ms/step\n",
      "Epoch 11/500\n",
      "453/453 - 1s - loss: 0.2132 - accuracy: 0.9067 - Recall: 0.4598 - val_loss: 0.2185 - val_accuracy: 0.9050 - val_Recall: 0.4830 - 845ms/epoch - 2ms/step\n",
      "Epoch 12/500\n",
      "453/453 - 1s - loss: 0.2112 - accuracy: 0.9076 - Recall: 0.4786 - val_loss: 0.2173 - val_accuracy: 0.9053 - val_Recall: 0.4611 - 813ms/epoch - 2ms/step\n",
      "Epoch 13/500\n",
      "453/453 - 1s - loss: 0.2093 - accuracy: 0.9083 - Recall: 0.4785 - val_loss: 0.2165 - val_accuracy: 0.9057 - val_Recall: 0.4648 - 771ms/epoch - 2ms/step\n",
      "Epoch 14/500\n",
      "453/453 - 1s - loss: 0.2076 - accuracy: 0.9081 - Recall: 0.4684 - val_loss: 0.2159 - val_accuracy: 0.9053 - val_Recall: 0.4701 - 795ms/epoch - 2ms/step\n",
      "Epoch 15/500\n",
      "453/453 - 1s - loss: 0.2062 - accuracy: 0.9097 - Recall: 0.4844 - val_loss: 0.2156 - val_accuracy: 0.9050 - val_Recall: 0.4622 - 791ms/epoch - 2ms/step\n",
      "Epoch 16/500\n",
      "453/453 - 1s - loss: 0.2049 - accuracy: 0.9100 - Recall: 0.4817 - val_loss: 0.2151 - val_accuracy: 0.9059 - val_Recall: 0.4709 - 825ms/epoch - 2ms/step\n",
      "Epoch 17/500\n",
      "453/453 - 1s - loss: 0.2036 - accuracy: 0.9100 - Recall: 0.4813 - val_loss: 0.2147 - val_accuracy: 0.9060 - val_Recall: 0.4582 - 797ms/epoch - 2ms/step\n",
      "Epoch 18/500\n",
      "453/453 - 1s - loss: 0.2024 - accuracy: 0.9102 - Recall: 0.4838 - val_loss: 0.2141 - val_accuracy: 0.9053 - val_Recall: 0.4665 - 771ms/epoch - 2ms/step\n",
      "Epoch 19/500\n",
      "453/453 - 1s - loss: 0.2011 - accuracy: 0.9106 - Recall: 0.4875 - val_loss: 0.2138 - val_accuracy: 0.9066 - val_Recall: 0.4614 - 763ms/epoch - 2ms/step\n",
      "Epoch 20/500\n",
      "453/453 - 1s - loss: 0.1999 - accuracy: 0.9112 - Recall: 0.4826 - val_loss: 0.2138 - val_accuracy: 0.9061 - val_Recall: 0.4800 - 779ms/epoch - 2ms/step\n",
      "Epoch 21/500\n",
      "453/453 - 1s - loss: 0.1988 - accuracy: 0.9120 - Recall: 0.4937 - val_loss: 0.2136 - val_accuracy: 0.9054 - val_Recall: 0.4670 - 791ms/epoch - 2ms/step\n",
      "Epoch 22/500\n",
      "453/453 - 1s - loss: 0.1977 - accuracy: 0.9122 - Recall: 0.4999 - val_loss: 0.2136 - val_accuracy: 0.9061 - val_Recall: 0.4795 - 830ms/epoch - 2ms/step\n",
      "Epoch 23/500\n",
      "453/453 - 1s - loss: 0.1967 - accuracy: 0.9126 - Recall: 0.5010 - val_loss: 0.2136 - val_accuracy: 0.9064 - val_Recall: 0.4765 - 791ms/epoch - 2ms/step\n",
      "Epoch 24/500\n",
      "453/453 - 1s - loss: 0.1958 - accuracy: 0.9136 - Recall: 0.5034 - val_loss: 0.2136 - val_accuracy: 0.9074 - val_Recall: 0.4877 - 746ms/epoch - 2ms/step\n",
      "Epoch 25/500\n",
      "453/453 - 1s - loss: 0.1948 - accuracy: 0.9135 - Recall: 0.5117 - val_loss: 0.2136 - val_accuracy: 0.9074 - val_Recall: 0.4913 - 780ms/epoch - 2ms/step\n",
      "Epoch 26/500\n",
      "453/453 - 1s - loss: 0.1940 - accuracy: 0.9143 - Recall: 0.5125 - val_loss: 0.2137 - val_accuracy: 0.9081 - val_Recall: 0.4977 - 798ms/epoch - 2ms/step\n",
      "Epoch 27/500\n",
      "453/453 - 1s - loss: 0.1931 - accuracy: 0.9150 - Recall: 0.5197 - val_loss: 0.2137 - val_accuracy: 0.9072 - val_Recall: 0.4945 - 815ms/epoch - 2ms/step\n",
      "Epoch 28/500\n",
      "453/453 - 1s - loss: 0.1924 - accuracy: 0.9156 - Recall: 0.5177 - val_loss: 0.2141 - val_accuracy: 0.9068 - val_Recall: 0.4868 - 728ms/epoch - 2ms/step\n",
      "Epoch 29/500\n",
      "453/453 - 1s - loss: 0.1916 - accuracy: 0.9155 - Recall: 0.5157 - val_loss: 0.2141 - val_accuracy: 0.9077 - val_Recall: 0.4971 - 788ms/epoch - 2ms/step\n",
      "Epoch 30/500\n",
      "453/453 - 1s - loss: 0.1909 - accuracy: 0.9161 - Recall: 0.5239 - val_loss: 0.2144 - val_accuracy: 0.9072 - val_Recall: 0.5002 - 806ms/epoch - 2ms/step\n",
      "Epoch 31/500\n",
      "453/453 - 1s - loss: 0.1902 - accuracy: 0.9164 - Recall: 0.5329 - val_loss: 0.2146 - val_accuracy: 0.9077 - val_Recall: 0.5002 - 795ms/epoch - 2ms/step\n",
      "Epoch 32/500\n",
      "453/453 - 1s - loss: 0.1896 - accuracy: 0.9165 - Recall: 0.5331 - val_loss: 0.2150 - val_accuracy: 0.9071 - val_Recall: 0.5058 - 761ms/epoch - 2ms/step\n",
      "Epoch 33/500\n",
      "453/453 - 1s - loss: 0.1889 - accuracy: 0.9167 - Recall: 0.5342 - val_loss: 0.2154 - val_accuracy: 0.9075 - val_Recall: 0.4935 - 784ms/epoch - 2ms/step\n",
      "Epoch 34/500\n",
      "453/453 - 1s - loss: 0.1882 - accuracy: 0.9172 - Recall: 0.5302 - val_loss: 0.2158 - val_accuracy: 0.9072 - val_Recall: 0.5228 - 810ms/epoch - 2ms/step\n",
      "Epoch 35/500\n",
      "453/453 - 1s - loss: 0.1876 - accuracy: 0.9169 - Recall: 0.5364 - val_loss: 0.2163 - val_accuracy: 0.9066 - val_Recall: 0.4962 - 827ms/epoch - 2ms/step\n",
      "Epoch 36/500\n",
      "453/453 - 1s - loss: 0.1870 - accuracy: 0.9168 - Recall: 0.5363 - val_loss: 0.2167 - val_accuracy: 0.9060 - val_Recall: 0.4966 - 814ms/epoch - 2ms/step\n",
      "Epoch 37/500\n",
      "453/453 - 1s - loss: 0.1863 - accuracy: 0.9177 - Recall: 0.5436 - val_loss: 0.2169 - val_accuracy: 0.9066 - val_Recall: 0.5142 - 792ms/epoch - 2ms/step\n",
      "Epoch 38/500\n",
      "453/453 - 1s - loss: 0.1858 - accuracy: 0.9179 - Recall: 0.5436 - val_loss: 0.2177 - val_accuracy: 0.9075 - val_Recall: 0.5147 - 791ms/epoch - 2ms/step\n",
      "Epoch 39/500\n",
      "453/453 - 1s - loss: 0.1853 - accuracy: 0.9173 - Recall: 0.5388 - val_loss: 0.2179 - val_accuracy: 0.9082 - val_Recall: 0.5132 - 768ms/epoch - 2ms/step\n",
      "Epoch 40/500\n",
      "453/453 - 1s - loss: 0.1848 - accuracy: 0.9181 - Recall: 0.5539 - val_loss: 0.2186 - val_accuracy: 0.9072 - val_Recall: 0.5092 - 813ms/epoch - 2ms/step\n",
      "Epoch 41/500\n",
      "453/453 - 1s - loss: 0.1842 - accuracy: 0.9182 - Recall: 0.5490 - val_loss: 0.2180 - val_accuracy: 0.9075 - val_Recall: 0.5212 - 843ms/epoch - 2ms/step\n",
      "Epoch 42/500\n",
      "453/453 - 1s - loss: 0.1837 - accuracy: 0.9185 - Recall: 0.5518 - val_loss: 0.2189 - val_accuracy: 0.9075 - val_Recall: 0.5093 - 768ms/epoch - 2ms/step\n",
      "Epoch 43/500\n",
      "453/453 - 1s - loss: 0.1833 - accuracy: 0.9185 - Recall: 0.5541 - val_loss: 0.2190 - val_accuracy: 0.9071 - val_Recall: 0.5193 - 740ms/epoch - 2ms/step\n",
      "Epoch 44/500\n",
      "453/453 - 1s - loss: 0.1828 - accuracy: 0.9185 - Recall: 0.5614 - val_loss: 0.2194 - val_accuracy: 0.9071 - val_Recall: 0.5269 - 781ms/epoch - 2ms/step\n",
      "Epoch 45/500\n",
      "453/453 - 1s - loss: 0.1822 - accuracy: 0.9194 - Recall: 0.5598 - val_loss: 0.2199 - val_accuracy: 0.9061 - val_Recall: 0.4985 - 811ms/epoch - 2ms/step\n",
      "Epoch 46/500\n",
      "453/453 - 1s - loss: 0.1818 - accuracy: 0.9188 - Recall: 0.5497 - val_loss: 0.2203 - val_accuracy: 0.9059 - val_Recall: 0.5146 - 799ms/epoch - 2ms/step\n",
      "Epoch 47/500\n",
      "453/453 - 1s - loss: 0.1814 - accuracy: 0.9196 - Recall: 0.5624 - val_loss: 0.2202 - val_accuracy: 0.9068 - val_Recall: 0.5344 - 763ms/epoch - 2ms/step\n",
      "Epoch 48/500\n",
      "453/453 - 1s - loss: 0.1809 - accuracy: 0.9196 - Recall: 0.5642 - val_loss: 0.2209 - val_accuracy: 0.9072 - val_Recall: 0.5097 - 770ms/epoch - 2ms/step\n",
      "Epoch 49/500\n",
      "453/453 - 1s - loss: 0.1805 - accuracy: 0.9196 - Recall: 0.5598 - val_loss: 0.2210 - val_accuracy: 0.9059 - val_Recall: 0.5194 - 795ms/epoch - 2ms/step\n",
      "Epoch 50/500\n",
      "453/453 - 1s - loss: 0.1801 - accuracy: 0.9197 - Recall: 0.5632 - val_loss: 0.2214 - val_accuracy: 0.9064 - val_Recall: 0.5293 - 827ms/epoch - 2ms/step\n"
     ]
    },
    {
     "name": "stdout",
     "output_type": "stream",
     "text": [
      "Epoch 51/500\n",
      "453/453 - 1s - loss: 0.1796 - accuracy: 0.9197 - Recall: 0.5655 - val_loss: 0.2221 - val_accuracy: 0.9056 - val_Recall: 0.5215 - 1s/epoch - 3ms/step\n",
      "Epoch 52/500\n",
      "453/453 - 1s - loss: 0.1792 - accuracy: 0.9204 - Recall: 0.5631 - val_loss: 0.2220 - val_accuracy: 0.9063 - val_Recall: 0.5229 - 1s/epoch - 3ms/step\n",
      "Epoch 53/500\n",
      "453/453 - 1s - loss: 0.1788 - accuracy: 0.9207 - Recall: 0.5751 - val_loss: 0.2224 - val_accuracy: 0.9056 - val_Recall: 0.5031 - 1s/epoch - 3ms/step\n",
      "Epoch 54/500\n",
      "453/453 - 1s - loss: 0.1783 - accuracy: 0.9208 - Recall: 0.5635 - val_loss: 0.2230 - val_accuracy: 0.9063 - val_Recall: 0.5172 - 920ms/epoch - 2ms/step\n",
      "Epoch 55/500\n",
      "453/453 - 1s - loss: 0.1779 - accuracy: 0.9209 - Recall: 0.5651 - val_loss: 0.2233 - val_accuracy: 0.9057 - val_Recall: 0.5361 - 870ms/epoch - 2ms/step\n",
      "Epoch 56/500\n",
      "453/453 - 1s - loss: 0.1775 - accuracy: 0.9214 - Recall: 0.5819 - val_loss: 0.2239 - val_accuracy: 0.9060 - val_Recall: 0.5208 - 879ms/epoch - 2ms/step\n",
      "Epoch 57/500\n",
      "453/453 - 1s - loss: 0.1771 - accuracy: 0.9215 - Recall: 0.5669 - val_loss: 0.2240 - val_accuracy: 0.9056 - val_Recall: 0.5255 - 852ms/epoch - 2ms/step\n",
      "Epoch 58/500\n",
      "453/453 - 1s - loss: 0.1768 - accuracy: 0.9220 - Recall: 0.5794 - val_loss: 0.2248 - val_accuracy: 0.9050 - val_Recall: 0.5220 - 864ms/epoch - 2ms/step\n",
      "Epoch 59/500\n",
      "453/453 - 1s - loss: 0.1764 - accuracy: 0.9222 - Recall: 0.5826 - val_loss: 0.2252 - val_accuracy: 0.9053 - val_Recall: 0.5179 - 831ms/epoch - 2ms/step\n",
      "Epoch 60/500\n",
      "453/453 - 1s - loss: 0.1761 - accuracy: 0.9221 - Recall: 0.5881 - val_loss: 0.2253 - val_accuracy: 0.9060 - val_Recall: 0.5238 - 805ms/epoch - 2ms/step\n",
      "Epoch 61/500\n",
      "453/453 - 1s - loss: 0.1757 - accuracy: 0.9226 - Recall: 0.5900 - val_loss: 0.2261 - val_accuracy: 0.9057 - val_Recall: 0.5242 - 800ms/epoch - 2ms/step\n",
      "Epoch 62/500\n",
      "453/453 - 1s - loss: 0.1753 - accuracy: 0.9226 - Recall: 0.5953 - val_loss: 0.2262 - val_accuracy: 0.9057 - val_Recall: 0.5150 - 819ms/epoch - 2ms/step\n",
      "Epoch 63/500\n",
      "453/453 - 1s - loss: 0.1750 - accuracy: 0.9221 - Recall: 0.5825 - val_loss: 0.2268 - val_accuracy: 0.9060 - val_Recall: 0.5134 - 831ms/epoch - 2ms/step\n",
      "Epoch 64/500\n",
      "453/453 - 1s - loss: 0.1747 - accuracy: 0.9231 - Recall: 0.5894 - val_loss: 0.2271 - val_accuracy: 0.9050 - val_Recall: 0.5269 - 816ms/epoch - 2ms/step\n",
      "Epoch 65/500\n",
      "453/453 - 1s - loss: 0.1744 - accuracy: 0.9227 - Recall: 0.5989 - val_loss: 0.2275 - val_accuracy: 0.9049 - val_Recall: 0.5147 - 784ms/epoch - 2ms/step\n",
      "Epoch 66/500\n",
      "453/453 - 1s - loss: 0.1740 - accuracy: 0.9225 - Recall: 0.5788 - val_loss: 0.2279 - val_accuracy: 0.9031 - val_Recall: 0.5341 - 786ms/epoch - 2ms/step\n",
      "Epoch 67/500\n",
      "453/453 - 1s - loss: 0.1737 - accuracy: 0.9232 - Recall: 0.5919 - val_loss: 0.2281 - val_accuracy: 0.9036 - val_Recall: 0.5362 - 750ms/epoch - 2ms/step\n",
      "Epoch 68/500\n",
      "453/453 - 1s - loss: 0.1733 - accuracy: 0.9236 - Recall: 0.5965 - val_loss: 0.2288 - val_accuracy: 0.9035 - val_Recall: 0.5393 - 799ms/epoch - 2ms/step\n",
      "Epoch 69/500\n",
      "453/453 - 1s - loss: 0.1730 - accuracy: 0.9233 - Recall: 0.6001 - val_loss: 0.2296 - val_accuracy: 0.9059 - val_Recall: 0.5276 - 854ms/epoch - 2ms/step\n",
      "Epoch 70/500\n",
      "453/453 - 1s - loss: 0.1727 - accuracy: 0.9232 - Recall: 0.5918 - val_loss: 0.2295 - val_accuracy: 0.9043 - val_Recall: 0.5147 - 777ms/epoch - 2ms/step\n",
      "Epoch 71/500\n",
      "453/453 - 1s - loss: 0.1724 - accuracy: 0.9238 - Recall: 0.5968 - val_loss: 0.2306 - val_accuracy: 0.9052 - val_Recall: 0.5224 - 869ms/epoch - 2ms/step\n",
      "Epoch 72/500\n",
      "453/453 - 1s - loss: 0.1721 - accuracy: 0.9239 - Recall: 0.5848 - val_loss: 0.2304 - val_accuracy: 0.9043 - val_Recall: 0.5319 - 760ms/epoch - 2ms/step\n"
     ]
    }
   ],
   "source": [
    "# Train model - Teruskan 100 iterasi lagi\n",
    "model_hist = model.fit(X_train_clean, y_train, # input data\n",
    "                       epochs = 500, # process epoch \n",
    "                       validation_split=0.2, # split data when model running\n",
    "                       batch_size = 64, # make category as big as 64 batch\n",
    "                       callbacks=[keras.callbacks.EarlyStopping(patience=50)], # for stopping if model overfitting\n",
    "                       verbose = 2) # display process model"
   ]
  },
  {
   "cell_type": "markdown",
   "id": "029624cd",
   "metadata": {},
   "source": [
    "### Visualization epoch"
   ]
  },
  {
   "cell_type": "code",
   "execution_count": 41,
   "id": "1163e729",
   "metadata": {},
   "outputs": [
    {
     "data": {
      "image/png": "[encoded data removed]",
      "text/plain": [
       "<Figure size 640x480 with 1 Axes>"
      ]
     },
     "metadata": {},
     "output_type": "display_data"
    }
   ],
   "source": [
    "# Plot Error\n",
    "plt.plot(1 + np.arange(72), model_hist.history[\"loss\"], marker=\"o\")\n",
    "\n",
    "plt.xlabel(\"epoch\")\n",
    "plt.ylabel(\"loss\")\n",
    "plt.show()"
   ]
  },
  {
   "cell_type": "code",
   "execution_count": 42,
   "id": "b824b863",
   "metadata": {},
   "outputs": [
    {
     "name": "stdout",
     "output_type": "stream",
     "text": [
      "1131/1131 [==============================] - 1s 1ms/step\n"
     ]
    },
    {
     "data": {
      "text/plain": [
       "array([[0.00782282],\n",
       "       [0.04382949],\n",
       "       [0.00326711],\n",
       "       ...,\n",
       "       [0.00136684],\n",
       "       [0.02727559],\n",
       "       [0.1356614 ]], dtype=float32)"
      ]
     },
     "execution_count": 42,
     "metadata": {},
     "output_type": "execute_result"
    }
   ],
   "source": [
    "# Prediksi\n",
    "y_pred_proba_train = model.predict(X_train_clean)\n",
    "y_pred_proba_train"
   ]
  },
  {
   "cell_type": "code",
   "execution_count": 43,
   "id": "f44be606",
   "metadata": {},
   "outputs": [],
   "source": [
    "# Buat prediksi\n",
    "thresh = 0.5\n",
    "\n",
    "y_pred_train = (y_pred_proba_train > thresh).astype(\"int\")"
   ]
  },
  {
   "cell_type": "code",
   "execution_count": 44,
   "id": "ee5c2ac1",
   "metadata": {},
   "outputs": [
    {
     "name": "stdout",
     "output_type": "stream",
     "text": [
      "283/283 [==============================] - 0s 1ms/step\n"
     ]
    },
    {
     "data": {
      "text/plain": [
       "array([[0.0012412 ],\n",
       "       [0.00548525],\n",
       "       [0.00221999],\n",
       "       ...,\n",
       "       [0.00087268],\n",
       "       [0.00112959],\n",
       "       [0.0008507 ]], dtype=float32)"
      ]
     },
     "execution_count": 44,
     "metadata": {},
     "output_type": "execute_result"
    }
   ],
   "source": [
    "# Prediksi\n",
    "y_pred_proba_test = model.predict(X_test_clean)\n",
    "y_pred_proba_test"
   ]
  },
  {
   "cell_type": "code",
   "execution_count": 45,
   "id": "71d83008",
   "metadata": {},
   "outputs": [],
   "source": [
    "# Make prediksi\n",
    "y_pred_test = (y_pred_proba_test > thresh).astype(\"int\")"
   ]
  },
  {
   "cell_type": "code",
   "execution_count": 46,
   "id": "a53ba027",
   "metadata": {},
   "outputs": [
    {
     "data": {
      "text/plain": [
       "array([[30800,  1137],\n",
       "       [ 1718,  2513]], dtype=int64)"
      ]
     },
     "execution_count": 46,
     "metadata": {},
     "output_type": "execute_result"
    }
   ],
   "source": [
    "# Show confusion matrix\n",
    "confusion_matrix(y_true = y_train,\n",
    "                 y_pred = y_pred_train)"
   ]
  },
  {
   "cell_type": "code",
   "execution_count": 47,
   "id": "98e9f9de",
   "metadata": {},
   "outputs": [
    {
     "data": {
      "text/plain": [
       "0.9210628179606282"
      ]
     },
     "execution_count": 47,
     "metadata": {},
     "output_type": "execute_result"
    }
   ],
   "source": [
    "# Show score accuracy\n",
    "accuracy_score(y_true = y_train,\n",
    "               y_pred = y_pred_train)"
   ]
  },
  {
   "cell_type": "code",
   "execution_count": 48,
   "id": "92479484",
   "metadata": {},
   "outputs": [
    {
     "name": "stdout",
     "output_type": "stream",
     "text": [
      "              precision    recall  f1-score   support\n",
      "\n",
      "      NO (0)       0.95      0.96      0.96     31937\n",
      "     YES (1)       0.69      0.59      0.64      4231\n",
      "\n",
      "    accuracy                           0.92     36168\n",
      "   macro avg       0.82      0.78      0.80     36168\n",
      "weighted avg       0.92      0.92      0.92     36168\n",
      "\n"
     ]
    }
   ],
   "source": [
    "# Show scores all metrics\n",
    "print(classification_report(y_true = y_train,\n",
    "                            y_pred = y_pred_train,\n",
    "                            target_names = [\"NO (0)\", \"YES (1)\"]))"
   ]
  },
  {
   "cell_type": "code",
   "execution_count": 49,
   "id": "60e4fcc3",
   "metadata": {},
   "outputs": [
    {
     "data": {
      "image/png": "[encoded data removed]",
      "text/plain": [
       "<Figure size 640x480 with 1 Axes>"
      ]
     },
     "metadata": {},
     "output_type": "display_data"
    }
   ],
   "source": [
    "# ROC Curve\n",
    "fpr_lr, tpr_lr, threshold_lr = roc_curve(y_train,\n",
    "                                         y_pred_proba_train)\n",
    "roc_auc_lr = auc(fpr_lr, tpr_lr)\n",
    "\n",
    "plt.title('Receiver Operating Characteristic')\n",
    "plt.plot(fpr_lr, tpr_lr, 'b', label = 'AUC = %0.2f' % roc_auc_lr)\n",
    "plt.legend(loc = 'lower right')\n",
    "plt.plot([0, 1], [0, 1],'r--')\n",
    "plt.xlim([0, 1])\n",
    "plt.ylim([0, 1])\n",
    "plt.ylabel('True Positive Rate')\n",
    "plt.xlabel('False Positive Rate')\n",
    "plt.show()"
   ]
  },
  {
   "cell_type": "code",
   "execution_count": 50,
   "id": "9a64def7",
   "metadata": {},
   "outputs": [
    {
     "data": {
      "image/png": "[encoded data removed]",
      "text/plain": [
       "<Figure size 1600x500 with 2 Axes>"
      ]
     },
     "metadata": {},
     "output_type": "display_data"
    }
   ],
   "source": [
    "# look heatmap fn,fp,tp,tn\n",
    "\n",
    "group_names = ['True Positif', 'False Positif', 'False Negatif', 'True Negatif'] # for label\n",
    "test_cnf_matrix = confusion_matrix(y_test,y_pred_test) # input data test\n",
    "test_counts = [\"{0:0.0f}\".format(value) for value in test_cnf_matrix.flatten()] # format value\n",
    "test_percentage = [\"{0:.2%}\".format(value) for value in test_cnf_matrix .flatten()/np.sum(test_cnf_matrix)] # percentage of metric\n",
    "test_labels = [f\"{v1}\\n{v2}\\n{v3}\" for v1, v2, v3 in zip(group_names,test_counts,test_percentage)] # looping metrics values\n",
    "test_labels = np.asarray(test_labels).reshape(2,2)\n",
    "plt.figure(figsize = (16,5)) # size figure\n",
    "sns.heatmap(test_cnf_matrix, annot=test_labels, fmt='', cmap='Blues'); # make label and colors"
   ]
  },
  {
   "cell_type": "markdown",
   "id": "39c5c7bb",
   "metadata": {},
   "source": [
    "# Cross Validation"
   ]
  },
  {
   "cell_type": "code",
   "execution_count": 51,
   "id": "e9d88813",
   "metadata": {},
   "outputs": [
    {
     "name": "stdout",
     "output_type": "stream",
     "text": [
      " Total of score is [0.92314072 0.9253525  0.93060547 0.9234172  0.92424661 0.92175836\n",
      " 0.93309372 0.92507603 0.90293142 0.90376106]\n",
      " Mean of score is 0.9213383105468033\n"
     ]
    }
   ],
   "source": [
    "from sklearn import svm # trigger for cv\n",
    "from sklearn.model_selection import cross_val_score, StratifiedKFold #choose cv method\n",
    "skf = StratifiedKFold(n_splits=10)\n",
    "\n",
    "clf = svm.SVC(kernel='linear', C=1, random_state=42) #triger for check cv\n",
    "scores = cross_val_score(clf, y_pred_proba_train, y_train, cv=skf) #process cv\n",
    "print(f' Total of score is {scores}') #mean value\n",
    "print(f' Mean of score is {scores.mean()}') #mean value"
   ]
  },
  {
   "cell_type": "markdown",
   "id": "b1d5cf1d",
   "metadata": {},
   "source": [
    "# Data Test Model"
   ]
  },
  {
   "cell_type": "code",
   "execution_count": 53,
   "id": "b9bfe4ba",
   "metadata": {},
   "outputs": [
    {
     "data": {
      "text/plain": [
       "((36168,), (36168, 1), (9043,), (9043, 1))"
      ]
     },
     "execution_count": 53,
     "metadata": {},
     "output_type": "execute_result"
    }
   ],
   "source": [
    "# sanicheck columns\n",
    "\n",
    "y_train.shape , y_pred_proba_train.shape, y_test.shape, y_pred_proba_test.shape"
   ]
  },
  {
   "cell_type": "code",
   "execution_count": 54,
   "id": "5824f286",
   "metadata": {},
   "outputs": [
    {
     "data": {
      "image/png": "[encoded data removed]",
      "text/plain": [
       "<Figure size 640x480 with 1 Axes>"
      ]
     },
     "metadata": {},
     "output_type": "display_data"
    }
   ],
   "source": [
    "# ROC Curve\n",
    "fpr_lr, tpr_lr, threshold_lr = roc_curve(y_test,\n",
    "                                         y_pred_proba_test)\n",
    "roc_auc_lr = auc(fpr_lr, tpr_lr)\n",
    "\n",
    "plt.title('Receiver Operating Characteristic')\n",
    "plt.plot(fpr_lr, tpr_lr, 'b', label = 'AUC = %0.2f' % roc_auc_lr)\n",
    "plt.legend(loc = 'lower right')\n",
    "plt.plot([0, 1], [0, 1],'r--')\n",
    "plt.xlim([0, 1])\n",
    "plt.ylim([0, 1])\n",
    "plt.ylabel('True Positive Rate')\n",
    "plt.xlabel('False Positive Rate')\n",
    "plt.show()"
   ]
  },
  {
   "cell_type": "code",
   "execution_count": 55,
   "id": "79d6196a",
   "metadata": {},
   "outputs": [
    {
     "data": {
      "text/plain": [
       "array([[7630,  355],\n",
       "       [ 526,  532]], dtype=int64)"
      ]
     },
     "execution_count": 55,
     "metadata": {},
     "output_type": "execute_result"
    }
   ],
   "source": [
    "# Tampilkan confusion matrix\n",
    "confusion_matrix(y_true = y_test,\n",
    "                 y_pred = y_pred_test)"
   ]
  },
  {
   "cell_type": "code",
   "execution_count": 56,
   "id": "07286616",
   "metadata": {},
   "outputs": [
    {
     "data": {
      "text/plain": [
       "0.9025765785690589"
      ]
     },
     "execution_count": 56,
     "metadata": {},
     "output_type": "execute_result"
    }
   ],
   "source": [
    "# Tampilkan score\n",
    "accuracy_score(y_true = y_test,\n",
    "               y_pred = y_pred_test)"
   ]
  },
  {
   "cell_type": "code",
   "execution_count": 57,
   "id": "58c78c5a",
   "metadata": {},
   "outputs": [
    {
     "name": "stdout",
     "output_type": "stream",
     "text": [
      "              precision    recall  f1-score   support\n",
      "\n",
      "      NO (0)       0.94      0.96      0.95      7985\n",
      "     YES (1)       0.60      0.50      0.55      1058\n",
      "\n",
      "    accuracy                           0.90      9043\n",
      "   macro avg       0.77      0.73      0.75      9043\n",
      "weighted avg       0.90      0.90      0.90      9043\n",
      "\n"
     ]
    }
   ],
   "source": [
    "# Tampilkan score\n",
    "print(classification_report(y_true = y_test,\n",
    "                            y_pred = y_pred_test,\n",
    "                            target_names = [\"NO (0)\", \"YES (1)\"]))"
   ]
  },
  {
   "cell_type": "code",
   "execution_count": 58,
   "id": "f60d3691",
   "metadata": {},
   "outputs": [
    {
     "data": {
      "image/png": "[encoded data removed]",
      "text/plain": [
       "<Figure size 1600x500 with 2 Axes>"
      ]
     },
     "metadata": {},
     "output_type": "display_data"
    }
   ],
   "source": [
    "# look heatmap fn,fp,tp,tn\n",
    "\n",
    "group_names = ['True Positif', 'False Positif', 'False Negatif', 'True Negatif'] # for label\n",
    "test_cnf_matrix = confusion_matrix(y_train,y_pred_train) # input data test\n",
    "test_counts = [\"{0:0.0f}\".format(value) for value in test_cnf_matrix.flatten()] # format value\n",
    "test_percentage = [\"{0:.2%}\".format(value) for value in test_cnf_matrix .flatten()/np.sum(test_cnf_matrix)] # percentage of metric\n",
    "test_labels = [f\"{v1}\\n{v2}\\n{v3}\" for v1, v2, v3 in zip(group_names,test_counts,test_percentage)] # looping metrics values\n",
    "test_labels = np.asarray(test_labels).reshape(2,2)\n",
    "plt.figure(figsize = (16,5)) # size figure\n",
    "sns.heatmap(test_cnf_matrix, annot=test_labels, fmt='', cmap='Blues');  # make label and colors"
   ]
  },
  {
   "cell_type": "markdown",
   "id": "f244c860",
   "metadata": {},
   "source": [
    "# Evaluation Model"
   ]
  },
  {
   "cell_type": "code",
   "execution_count": 52,
   "id": "479bb938",
   "metadata": {},
   "outputs": [
    {
     "name": "stdout",
     "output_type": "stream",
     "text": [
      ">>>>>Metrics Data Train<<<<<\n",
      "Recall: 0.5939494209406759\n",
      "Precision: 0.6884931506849316\n",
      "F1-score: 0.6377363278771729\n",
      "Accuracy: 0.9210628179606282\n",
      ">>>>>Metrics Data Test<<<<<\n",
      "Recall: 0.502835538752363\n",
      "Precision: 0.5997745208568207\n",
      "F1-score: 0.5470437017994859\n",
      "Accuracy: 0.9025765785690589\n"
     ]
    }
   ],
   "source": [
    "from sklearn.metrics import f1_score, precision_score, recall_score #check Metrics\n",
    "\n",
    "# Check Metric Positif\n",
    "# model Random Forest Data Train\n",
    "print('>>>>>Metrics Data Train<<<<<')\n",
    "print('Recall: {}'.format(recall_score(y_train, y_pred_train))) # score of recall\n",
    "print('Precision: {}'.format(precision_score(y_train, y_pred_train))) # score of precision\n",
    "print('F1-score: {}'.format(f1_score(y_train, y_pred_train))) # score of f1-score\n",
    "print('Accuracy: {}'.format(accuracy_score(y_train, y_pred_train))) # score of accuracy\n",
    "\n",
    "\n",
    "# model Random Forest Data Test\n",
    "print('>>>>>Metrics Data Test<<<<<') \n",
    "print('Recall: {}'.format(recall_score(y_test, y_pred_test))) # score of recall\n",
    "print('Precision: {}'.format(precision_score(y_test, y_pred_test))) # score of precision\n",
    "print('F1-score: {}'.format(f1_score(y_test, y_pred_test))) # score of f1-score\n",
    "print('Accuracy: {}'.format(accuracy_score(y_test, y_pred_test))) # score of accuracy"
   ]
  }
 ],
 "metadata": {
  "kernelspec": {
   "display_name": "Python 3 (ipykernel)",
   "language": "python",
   "name": "python3"
  },
  "language_info": {
   "codemirror_mode": {
    "name": "ipython",
    "version": 3
   },
   "file_extension": ".py",
   "mimetype": "text/x-python",
   "name": "python",
   "nbconvert_exporter": "python",
   "pygments_lexer": "ipython3",
   "version": "3.9.13"
  }
 },
 "nbformat": 4,
 "nbformat_minor": 5
}
